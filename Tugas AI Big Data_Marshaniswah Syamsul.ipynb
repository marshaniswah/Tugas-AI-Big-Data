{
  "nbformat": 4,
  "nbformat_minor": 0,
  "metadata": {
    "colab": {
      "provenance": []
    },
    "kernelspec": {
      "name": "python3",
      "display_name": "Python 3"
    },
    "language_info": {
      "name": "python"
    }
  },
  "cells": [
    {
      "cell_type": "code",
      "execution_count": 1,
      "metadata": {
        "colab": {
          "base_uri": "https://localhost:8080/"
        },
        "id": "XiSYMo_l25BP",
        "outputId": "1ab9e4ce-bfbe-4f0e-eb69-d01367e536fe"
      },
      "outputs": [
        {
          "output_type": "stream",
          "name": "stdout",
          "text": [
            "Akurasi model: 0.8947368421052632\n"
          ]
        }
      ],
      "source": [
        "from sklearn import datasets, model_selection, neighbors\n",
        "\n",
        "# Memuat dataset MNIST\n",
        "mnist = datasets.load_digits()\n",
        "\n",
        "# Membagi data menjadi set training dan testing\n",
        "X_train, X_test, y_train, y_test = model_selection.train_test_split(mnist.data, mnist.target, test_size=0.25)\n",
        "\n",
        "# Mendefinisikan model KNN dengan K=3\n",
        "knn = neighbors.KNeighborsClassifier(n_neighbors=3)\n",
        "\n",
        "# Melatih model pada data training\n",
        "knn.fit(X_train, y_train)\n",
        "\n",
        "# Memprediksi target pada data testing\n",
        "y_pred = knn.predict(X_test)\n",
        "\n",
        "# Mengevaluasi performa model\n",
        "accuracy = knn.score(X_test, y_test)\n",
        "\n",
        "print(\"Akurasi model:\", accuracy)"
      ]
    }
  ]
}